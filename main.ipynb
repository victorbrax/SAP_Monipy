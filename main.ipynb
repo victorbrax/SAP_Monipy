{
 "cells": [
  {
   "attachments": {},
   "cell_type": "markdown",
   "metadata": {},
   "source": [
    "# Imports"
   ]
  },
  {
   "cell_type": "code",
   "execution_count": 1,
   "metadata": {},
   "outputs": [],
   "source": [
    "import datetime\n",
    "from squad.accommodations import *\n",
    "from squad.captain        import *\n",
    "from squad.major          import *\n",
    "from squad.sergeant       import *\n",
    "from squad.soldiers       import *"
   ]
  },
  {
   "attachments": {},
   "cell_type": "markdown",
   "metadata": {},
   "source": [
    "# Gen Documents"
   ]
  },
  {
   "cell_type": "code",
   "execution_count": 2,
   "metadata": {},
   "outputs": [],
   "source": [
    "gen_commands()"
   ]
  },
  {
   "attachments": {},
   "cell_type": "markdown",
   "metadata": {},
   "source": [
    "# Read the old logs before the proccess"
   ]
  },
  {
   "cell_type": "code",
   "execution_count": 3,
   "metadata": {},
   "outputs": [],
   "source": [
    "for quarter in envs:\n",
    "    check_prisoners(quarter)"
   ]
  },
  {
   "attachments": {},
   "cell_type": "markdown",
   "metadata": {},
   "source": [
    "# Enlist Soldier"
   ]
  },
  {
   "cell_type": "code",
   "execution_count": 4,
   "metadata": {},
   "outputs": [],
   "source": [
    "for quarter in envs:\n",
    "    with open(f'{quarter}/SD_DOCS/{quarter}-documents-mxdb.txt', 'r') as file:\n",
    "        file = file.readlines()\n",
    "        file = [line.strip('\\n') for line in file]\n",
    "        file = [line.strip(' %') for line in file]\n",
    "        file = [line.replace(' Days', '') for line in file]\n",
    "\n",
    "        for idx, line in enumerate(file):\n",
    "            line = line.split(' = ')\n",
    "            new_soldier = Soldado(nm=line[0], num=idx, aloj=quarter, hora=datetime.datetime.now(), val=line[1])\n",
    "            enlist_soldier(quarter, new_soldier)"
   ]
  },
  {
   "attachments": {},
   "cell_type": "markdown",
   "metadata": {},
   "source": [
    "# Verify Soldiers Criterias"
   ]
  },
  {
   "cell_type": "code",
   "execution_count": 5,
   "metadata": {},
   "outputs": [],
   "source": [
    "for quarter in envs:\n",
    "    judge_soldiers(quarter)"
   ]
  }
 ],
 "metadata": {
  "kernelspec": {
   "display_name": "Python 3",
   "language": "python",
   "name": "python3"
  },
  "language_info": {
   "codemirror_mode": {
    "name": "ipython",
    "version": 3
   },
   "file_extension": ".py",
   "mimetype": "text/x-python",
   "name": "python",
   "nbconvert_exporter": "python",
   "pygments_lexer": "ipython3",
   "version": "3.10.6"
  },
  "orig_nbformat": 4,
  "vscode": {
   "interpreter": {
    "hash": "26de051ba29f2982a8de78e945f0abaf191376122a1563185a90213a26c5da77"
   }
  }
 },
 "nbformat": 4,
 "nbformat_minor": 2
}
