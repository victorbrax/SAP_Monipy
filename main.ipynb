{
 "cells": [
  {
   "attachments": {},
   "cell_type": "markdown",
   "metadata": {},
   "source": [
    "# Imports"
   ]
  },
  {
   "cell_type": "code",
   "execution_count": 1,
   "metadata": {},
   "outputs": [],
   "source": [
    "import os\n",
    "import json\n",
    "from squad.lodge import *\n",
    "from squad.captain import *\n",
    "from squad.major import *\n",
    "from squad.sergeant import *\n",
    "import datetime"
   ]
  },
  {
   "attachments": {},
   "cell_type": "markdown",
   "metadata": {},
   "source": [
    "# Captain and Sergeant"
   ]
  },
  {
   "cell_type": "code",
   "execution_count": 2,
   "metadata": {},
   "outputs": [],
   "source": [
    "cap_gen_commands(envs, templs) # - Gen and Run commands to create new Soldiers\n",
    "sgt_verify() # - Supervise the soldiers and write on a hand list"
   ]
  },
  {
   "attachments": {},
   "cell_type": "markdown",
   "metadata": {},
   "source": [
    "## Lendo o arquivo log existente antes de todo o processo"
   ]
  },
  {
   "cell_type": "code",
   "execution_count": 4,
   "metadata": {},
   "outputs": [],
   "source": [
    "with open('dumbsoldiers.log', 'r') as log:\n",
    "    log = log.readlines() # Leia linha por linha\n",
    "    log = [x.strip('\\n') for x in log] # Retire o \"\\n\" do final de cada linha\n",
    "    num_in_log = [x.split(',') for x in log] # Separe em uma lista o dicionário separado por vírgulas\n",
    "\n",
    "punished_soldiers = {}\n",
    "punished_numbers = []\n",
    "\n",
    "for line in range(len(log)): # Para cada linha no arquivo .log:\n",
    "    npun = int(num_in_log[line][0][14:]) # Armazene o SD_Number dessa linha em uma variável\n",
    "    punished_soldiers[npun] = eval(log[line]) # Converta para um dicionário identificado pelo SD_Number \n",
    "    punished_numbers.append(punished_soldiers[npun][\"SD_Number\"]) # Guarde esses números em uma lista\n",
    "    "
   ]
  },
  {
   "cell_type": "code",
   "execution_count": null,
   "metadata": {},
   "outputs": [],
   "source": [
    "# os.system(cEP1[1])\n",
    "# os.system(cGRC[1])"
   ]
  },
  {
   "attachments": {},
   "cell_type": "markdown",
   "metadata": {},
   "source": [
    "## Conferindo se os soldados do log são os mesmos de agora"
   ]
  },
  {
   "cell_type": "code",
   "execution_count": 5,
   "metadata": {},
   "outputs": [
    {
     "name": "stdout",
     "output_type": "stream",
     "text": [
      "Mande um e-mail!\n",
      "Puna os recrutas\n",
      "Puna os recrutas\n"
     ]
    }
   ],
   "source": [
    "for sd in sgt_list.keys(): # Para cada soldado na lista do sargento:\n",
    "    if (sgt_list[sd][\"SD_Status\"]) == 1: # Se o status desse soldado for igual a 1:\n",
    "        if (sgt_list[sd][\"SD_Number\"] in punished_numbers): # Verifique se ele está nos punidos do log\n",
    "            sd_delta = sgt_list[sd][\"SD_Hour\"] - punished_soldiers[sd][\"SD_Hour\"] # Compare as horas\n",
    "            if (sd_delta.seconds >= 43200): # Verifique se ele está lá a mais de 12 horas\n",
    "\n",
    "                # Deixe todas as informações a mão\n",
    "                num = sgt_list[sd][\"SD_Number\"] \n",
    "                name = sgt_list[sd][\"SD_Name\"] \n",
    "                val = sgt_list[sd][\"SD_Value\"] \n",
    "                stts = sgt_list[sd][\"SD_Status\"] \n",
    "                prio = sgt_list[sd][\"SD_Priority\"] \n",
    "                hour = sgt_list[sd][\"SD_Hour\"] \n",
    "\n",
    "                print('Mande um e-mail!')\n",
    "            else:\n",
    "                print(\"Puna os recrutas\")\n",
    "\n",
    "\n",
    "        # report_soldier(num, name, val, stts, prio, hour)"
   ]
  },
  {
   "cell_type": "code",
   "execution_count": null,
   "metadata": {},
   "outputs": [],
   "source": []
  },
  {
   "cell_type": "code",
   "execution_count": null,
   "metadata": {},
   "outputs": [
    {
     "data": {
      "text/plain": [
       "4092"
      ]
     },
     "execution_count": 46,
     "metadata": {},
     "output_type": "execute_result"
    }
   ],
   "source": [
    "timess.seconds"
   ]
  },
  {
   "cell_type": "code",
   "execution_count": null,
   "metadata": {},
   "outputs": [],
   "source": [
    "for sd in sgt_list.keys(): # - Para cada SD no livro do SGT\n",
    "    \n",
    "\n",
    "\n",
    "        \n",
    "        if sd not in bad_soldiers: # - Se o SD NÃO ESTIVER LÁ:\n",
    "            # print(sgt_list[sd][\"SD_Number\"])\n",
    "            punished = (sgt_list[sd][\"SD_Number\"]) # - Pegue o número desse futuro punido\n",
    "            ... # - Busque \n",
    "\n",
    "\n",
    "            print(log[punished][1]) # = Soldier ID List\n",
    "            print(log[punished][2]) # = Soldier War Hour\n",
    "            print(log[punished][3]) # = Soldier Name\n",
    "            print(log[punished][4]) # = Soldier Value\n",
    "            print()\n",
    "\n",
    "\n",
    "            # headquarter_warning(log[i][2], log[i])"
   ]
  },
  {
   "cell_type": "code",
   "execution_count": null,
   "metadata": {},
   "outputs": [],
   "source": [
    "\n",
    "\n",
    "\n",
    "\n",
    "\n",
    "for i in range(len(log)):\n",
    "    bad_soldiers.append(int(log[i][1]))\n",
    "\n",
    "for i in sgt_list.keys():\n",
    "    if i not in bad_soldiers:\n",
    "        print(i)\n",
    "        # print(f'EMAIL TO {i}!!! Name: {log[i][3]}')\n",
    "\n",
    "\n",
    "    # sdNum = int((sgt_list[i][\"SD_Number\"]))\n",
    "        # print('a vontade')"
   ]
  },
  {
   "cell_type": "code",
   "execution_count": null,
   "metadata": {},
   "outputs": [],
   "source": []
  },
  {
   "cell_type": "code",
   "execution_count": null,
   "metadata": {},
   "outputs": [],
   "source": []
  },
  {
   "cell_type": "code",
   "execution_count": null,
   "metadata": {},
   "outputs": [],
   "source": []
  },
  {
   "cell_type": "code",
   "execution_count": null,
   "metadata": {},
   "outputs": [],
   "source": []
  },
  {
   "cell_type": "code",
   "execution_count": null,
   "metadata": {},
   "outputs": [],
   "source": [
    "for i in s_handlist.keys():\n",
    "    if(s_handlist[i]['SD_Status'] == 1):"
   ]
  },
  {
   "cell_type": "code",
   "execution_count": null,
   "metadata": {},
   "outputs": [],
   "source": [
    "with open('dumbsoldiers.log') as f:\n",
    "    f = f.readlines()\n",
    "    f = [x.strip('\\n') for x in f]\n",
    "    f = [x.split(' | ') for x in f]"
   ]
  },
  {
   "cell_type": "code",
   "execution_count": null,
   "metadata": {},
   "outputs": [],
   "source": [
    "s_handlist[5]"
   ]
  },
  {
   "cell_type": "code",
   "execution_count": null,
   "metadata": {},
   "outputs": [],
   "source": [
    "with open('dumbsoldiers.log') as log:\n",
    "    log = log.readlines()\n",
    "    log = [x.strip('\\n') for x in log]\n",
    "    log = [x.split(' | ') for x in log]"
   ]
  },
  {
   "cell_type": "code",
   "execution_count": null,
   "metadata": {},
   "outputs": [],
   "source": [
    "log[3]"
   ]
  },
  {
   "cell_type": "code",
   "execution_count": null,
   "metadata": {},
   "outputs": [],
   "source": [
    "def sendMail():\n",
    "    return print('mail enviado')"
   ]
  },
  {
   "cell_type": "code",
   "execution_count": null,
   "metadata": {},
   "outputs": [],
   "source": [
    "def compare(sdNum, sdStts, sdHour, sdName): # - Função que verifica se registra log, envia e-mail ou ignora.\n",
    "    for x in range(len(log)): # ? Olhe todas as linhas do log;\n",
    "        if(sdStts == log[x][1]): # ? Se o número de algum soldado meu estiver lá, me aponte;\n",
    "            if(sdHour - log[x][2] <= 43200): # ? Faz mais de 12h que esse soldado está ai?\n",
    "                return print('nada') # = Se não: ignore.\n",
    "            else:\n",
    "                report_soldier(sdName, sdNum, sdHour) # = Se sim: o registre\n",
    "                sendMail()\n",
    "                return print('normal2')\n",
    "        else:\n",
    "            return print('nada')"
   ]
  },
  {
   "cell_type": "code",
   "execution_count": null,
   "metadata": {},
   "outputs": [],
   "source": [
    "for i in list(s_handlist.keys()):\n",
    "\n",
    "    sdNum =  s_handlist[i]['SD_Number']\n",
    "    sdStts = s_handlist[i]['SD_Status']\n",
    "    sdHour = s_handlist[i]['War_Hour']\n",
    "    sdName = s_handlist[i]['SD_Name']\n",
    "    \n",
    "    if(sdStts == 1): \n",
    "        compare(sdNum, sdStts, sdHour, sdName)"
   ]
  }
 ],
 "metadata": {
  "kernelspec": {
   "display_name": "Python 3",
   "language": "python",
   "name": "python3"
  },
  "language_info": {
   "codemirror_mode": {
    "name": "ipython",
    "version": 3
   },
   "file_extension": ".py",
   "mimetype": "text/x-python",
   "name": "python",
   "nbconvert_exporter": "python",
   "pygments_lexer": "ipython3",
   "version": "3.10.6"
  },
  "orig_nbformat": 4,
  "vscode": {
   "interpreter": {
    "hash": "26de051ba29f2982a8de78e945f0abaf191376122a1563185a90213a26c5da77"
   }
  }
 },
 "nbformat": 4,
 "nbformat_minor": 2
}
