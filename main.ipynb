{
 "cells": [
  {
   "attachments": {},
   "cell_type": "markdown",
   "metadata": {},
   "source": [
    "# Imports"
   ]
  },
  {
   "cell_type": "code",
   "execution_count": 7,
   "metadata": {},
   "outputs": [],
   "source": [
    "import os\n",
    "import json\n",
    "from squad.lodge import *\n",
    "from squad.captain import *\n",
    "from squad.major import *\n",
    "from squad.sergeant import *\n",
    "import datetime"
   ]
  },
  {
   "attachments": {},
   "cell_type": "markdown",
   "metadata": {},
   "source": [
    "# Captain and Sergeant"
   ]
  },
  {
   "cell_type": "code",
   "execution_count": 8,
   "metadata": {},
   "outputs": [],
   "source": [
    "cap_gen_commands(envs, templs) # - Gen and Run commands to create new Soldiers\n",
    "sgt_verify() # - Supervise the soldiers and write on a hand list"
   ]
  },
  {
   "attachments": {},
   "cell_type": "markdown",
   "metadata": {},
   "source": [
    "## Lendo o arquivo log existente antes de todo o processo"
   ]
  },
  {
   "cell_type": "code",
   "execution_count": 9,
   "metadata": {},
   "outputs": [],
   "source": [
    "with open('dumbsoldiers.log', 'r') as log:\n",
    "    log = log.readlines() # Leia linha por linha\n",
    "    log = [x.strip('\\n') for x in log] # Retire o \"\\n\" do final de cada linha\n",
    "    num_in_log = [x.split(',') for x in log] # Separe em uma lista o dicionário separado por vírgulas\n",
    "\n",
    "punished_soldiers = {}\n",
    "punished_numbers = []\n",
    "\n",
    "for line in range(len(log)): # Para cada linha no arquivo .log:\n",
    "    npun = int(num_in_log[line][0][14:]) # Armazene o SD_Number dessa linha em uma variável\n",
    "    punished_soldiers[npun] = eval(log[line]) # Converta para um dicionário identificado pelo SD_Number \n",
    "    punished_numbers.append(punished_soldiers[npun][\"SD_Number\"]) # Guarde esses números em uma lista\n",
    "    "
   ]
  },
  {
   "cell_type": "code",
   "execution_count": 10,
   "metadata": {},
   "outputs": [],
   "source": [
    "# os.system(cEP1[1])\n",
    "# os.system(cGRC[1])"
   ]
  },
  {
   "attachments": {},
   "cell_type": "markdown",
   "metadata": {},
   "source": [
    "## Conferindo se os soldados do log são os mesmos de agora"
   ]
  },
  {
   "cell_type": "code",
   "execution_count": 11,
   "metadata": {},
   "outputs": [],
   "source": [
    "for sd in sgt_list.keys(): # Para cada soldado na lista do sargento:\n",
    "    \n",
    "    # Faça o sargento parar de gaguejar:\n",
    "    num = sgt_list[sd][\"SD_Number\"] \n",
    "    name = sgt_list[sd][\"SD_Name\"] \n",
    "    val = sgt_list[sd][\"SD_Value\"] \n",
    "    stts = sgt_list[sd][\"SD_Status\"] \n",
    "    prio = sgt_list[sd][\"SD_Priority\"] \n",
    "    hour = sgt_list[sd][\"SD_Hour\"] \n",
    "    \n",
    "    if (stts == 1): # Se o status desse soldado for igual a 1:\n",
    "        if (num in punished_numbers): # Verifique se o número dele está nos punidos do log\n",
    "            sd_delta = hour - punished_soldiers[sd][\"SD_Hour\"] # Compare as horas\n",
    "            if (sd_delta.seconds >= 43200): # Verifique se ele está lá a mais de 12 horas\n",
    "                punish_soldier(sgt_list[sd]) # Puna esse soldado!\n",
    "                print('Email para soldado a mais de 12 horas!!') # E mande um e-mail!\n",
    "        else: # Se não:\n",
    "            punish_soldier(sgt_list[sd]) # Puna esse soldado!\n",
    "            print('Email para soldado novo!!') # E mande um e-mail!"
   ]
  },
  {
   "cell_type": "code",
   "execution_count": 12,
   "metadata": {},
   "outputs": [],
   "source": [
    "def sendMail():\n",
    "    return print('mail enviado')"
   ]
  }
 ],
 "metadata": {
  "kernelspec": {
   "display_name": "Python 3",
   "language": "python",
   "name": "python3"
  },
  "language_info": {
   "codemirror_mode": {
    "name": "ipython",
    "version": 3
   },
   "file_extension": ".py",
   "mimetype": "text/x-python",
   "name": "python",
   "nbconvert_exporter": "python",
   "pygments_lexer": "ipython3",
   "version": "3.10.6"
  },
  "orig_nbformat": 4,
  "vscode": {
   "interpreter": {
    "hash": "26de051ba29f2982a8de78e945f0abaf191376122a1563185a90213a26c5da77"
   }
  }
 },
 "nbformat": 4,
 "nbformat_minor": 2
}
