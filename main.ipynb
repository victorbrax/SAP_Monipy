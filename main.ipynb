{
 "cells": [
  {
   "cell_type": "code",
   "execution_count": 1,
   "metadata": {},
   "outputs": [],
   "source": [
    "import os\n",
    "from squad.lodge import *\n",
    "from squad.captain import *\n",
    "from squad.major import report_soldier\n",
    "from squad.sergeant import *"
   ]
  },
  {
   "cell_type": "code",
   "execution_count": 2,
   "metadata": {},
   "outputs": [],
   "source": [
    "cap_gen_commands(envs, templs) # - Gen and Run commands to create new Soldiers\n",
    "sgt_verify() # - Supervise the soldiers and write on a hand list"
   ]
  },
  {
   "cell_type": "code",
   "execution_count": 10,
   "metadata": {},
   "outputs": [],
   "source": [
    "with open('dumbsoldiers.log') as log:\n",
    "    log = log.readlines() # - Read line per line\n",
    "    log = [x.strip('\\n') for x in log] # - Remove the \"\\n\"\n",
    "    log = [x.split(' | ') for x in log] # - Separated by \"|\""
   ]
  },
  {
   "cell_type": "code",
   "execution_count": 18,
   "metadata": {},
   "outputs": [
    {
     "data": {
      "text/plain": [
       "'12'"
      ]
     },
     "execution_count": 18,
     "metadata": {},
     "output_type": "execute_result"
    }
   ],
   "source": [
    "log[4][1] # = Soldier ID List\n",
    "log[4][2] # = Soldier War Hour\n",
    "log[4][3] # = Soldier Name"
   ]
  },
  {
   "cell_type": "code",
   "execution_count": null,
   "metadata": {},
   "outputs": [],
   "source": [
    "# os.system(cEP1[1])\n",
    "# os.system(cGRC[1])"
   ]
  },
  {
   "cell_type": "code",
   "execution_count": 3,
   "metadata": {},
   "outputs": [],
   "source": []
  },
  {
   "cell_type": "code",
   "execution_count": null,
   "metadata": {},
   "outputs": [],
   "source": []
  },
  {
   "cell_type": "code",
   "execution_count": null,
   "metadata": {},
   "outputs": [],
   "source": []
  },
  {
   "cell_type": "code",
   "execution_count": null,
   "metadata": {},
   "outputs": [],
   "source": []
  },
  {
   "cell_type": "code",
   "execution_count": null,
   "metadata": {},
   "outputs": [],
   "source": []
  },
  {
   "cell_type": "code",
   "execution_count": null,
   "metadata": {},
   "outputs": [],
   "source": [
    "for i in s_handlist.keys():\n",
    "    if(s_handlist[i]['SD_Status'] == 1):"
   ]
  },
  {
   "cell_type": "code",
   "execution_count": null,
   "metadata": {},
   "outputs": [],
   "source": [
    "with open('dumbsoldiers.log') as f:\n",
    "    f = f.readlines()\n",
    "    f = [x.strip('\\n') for x in f]\n",
    "    f = [x.split(' | ') for x in f]"
   ]
  },
  {
   "cell_type": "code",
   "execution_count": null,
   "metadata": {},
   "outputs": [],
   "source": [
    "s_handlist[5]"
   ]
  },
  {
   "cell_type": "code",
   "execution_count": null,
   "metadata": {},
   "outputs": [],
   "source": [
    "with open('dumbsoldiers.log') as log:\n",
    "    log = log.readlines()\n",
    "    log = [x.strip('\\n') for x in log]\n",
    "    log = [x.split(' | ') for x in log]"
   ]
  },
  {
   "cell_type": "code",
   "execution_count": null,
   "metadata": {},
   "outputs": [],
   "source": [
    "log[3]"
   ]
  },
  {
   "cell_type": "code",
   "execution_count": null,
   "metadata": {},
   "outputs": [],
   "source": [
    "def sendMail():\n",
    "    return print('mail enviado')"
   ]
  },
  {
   "cell_type": "code",
   "execution_count": null,
   "metadata": {},
   "outputs": [],
   "source": [
    "def compare(sdNum, sdStts, sdHour, sdName): # - Função que verifica se registra log, envia e-mail ou ignora.\n",
    "    for x in range(len(log)): # ? Olhe todas as linhas do log;\n",
    "        if(sdStts == log[x][1]): # ? Se o número de algum soldado meu estiver lá, me aponte;\n",
    "            if(sdHour - log[x][2] <= 43200): # ? Faz mais de 12h que esse soldado está ai?\n",
    "                return print('nada') # = Se não: ignore.\n",
    "            else:\n",
    "                report_soldier(sdName, sdNum, sdHour) # = Se sim: o registre\n",
    "                sendMail()\n",
    "                return print('normal2')\n",
    "        else:\n",
    "            return print('nada')"
   ]
  },
  {
   "cell_type": "code",
   "execution_count": null,
   "metadata": {},
   "outputs": [],
   "source": [
    "for i in list(s_handlist.keys()):\n",
    "\n",
    "    sdNum =  s_handlist[i]['SD_Number']\n",
    "    sdStts = s_handlist[i]['SD_Status']\n",
    "    sdHour = s_handlist[i]['War_Hour']\n",
    "    sdName = s_handlist[i]['SD_Name']\n",
    "    \n",
    "    if(sdStts == 1): \n",
    "        compare(sdNum, sdStts, sdHour, sdName)"
   ]
  }
 ],
 "metadata": {
  "kernelspec": {
   "display_name": "Python 3",
   "language": "python",
   "name": "python3"
  },
  "language_info": {
   "codemirror_mode": {
    "name": "ipython",
    "version": 3
   },
   "file_extension": ".py",
   "mimetype": "text/x-python",
   "name": "python",
   "nbconvert_exporter": "python",
   "pygments_lexer": "ipython3",
   "version": "3.10.6"
  },
  "orig_nbformat": 4,
  "vscode": {
   "interpreter": {
    "hash": "26de051ba29f2982a8de78e945f0abaf191376122a1563185a90213a26c5da77"
   }
  }
 },
 "nbformat": 4,
 "nbformat_minor": 2
}
