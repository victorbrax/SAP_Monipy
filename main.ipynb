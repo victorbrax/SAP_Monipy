{
 "cells": [
  {
   "cell_type": "code",
   "execution_count": 1,
   "metadata": {},
   "outputs": [],
   "source": [
    "import os\n",
    "from squad.lodge import *\n",
    "from squad.captain import *\n",
    "from squad.major import report_soldier\n",
    "from squad.sergeant import *"
   ]
  },
  {
   "cell_type": "code",
   "execution_count": 2,
   "metadata": {},
   "outputs": [],
   "source": [
    "gen_commands(envs, templs)"
   ]
  },
  {
   "cell_type": "code",
   "execution_count": 3,
   "metadata": {},
   "outputs": [],
   "source": [
    "# os.system(cEP1[1])\n",
    "# os.system(cGRC[1])"
   ]
  },
  {
   "cell_type": "code",
   "execution_count": 4,
   "metadata": {},
   "outputs": [
    {
     "data": {
      "text/plain": [
       "{'SD_Number': 14,\n",
       " 'SD_Name': 'DBMRFC and Native SQL SQL Statement Execution ',\n",
       " 'SD_Value': \" Statements can't be executed\",\n",
       " 'SD_Status': 1,\n",
       " 'Priority': 1,\n",
       " 'War_Hour': datetime.datetime(2022, 12, 28, 13, 15, 46, 658925)}"
      ]
     },
     "execution_count": 4,
     "metadata": {},
     "output_type": "execute_result"
    }
   ],
   "source": [
    "maxdb_moni(envs[2], limit='ONLINE') # State Current State #! ALERT != \"ONLINE\"\n",
    "data_use(envs[2], limit=92) # Data Area Used Data Space #! ALERT >= 92\n",
    "log_use(envs[2], limit=50) # Log Area Used Log Space #! ALERT >= 50\n",
    "datahitrate(envs[2], limit=90) # Caches Data Cache Hitrate - total #! ALERT >= 90\n",
    "cataloghitrate(envs[2], limit=90) # Caches Catalog Cache Hitrate #! ALERT >= 90\n",
    "ustask(envs[2], limit=10) # User Tasks Connect Wait #! ALERT >= 10\n",
    "monilog(envs[2], limit=1) # Monitor Log Queue Overflows #! ALERT >= 1\n",
    "optistcs(envs[2], limit=8) # Optimizer Statistics Last Collection #! ALERT >= 8\n",
    "bkp(envs[2], limit=2) # Last Backup Last successful Complete Data Backup #! ALERT >= 2 Days\n",
    "badidx(envs[2], limit=1) # Bad Indexes Number of Bad Indexes #! ALERT >= 1\n",
    "dbanly(envs[2], limit='Activated') # Database Analyzer Status Database Analyzer #! ALERT != Activated\n",
    "comexec(envs[2], limit='Commands can be executed') # DBMRFC and Native SQL DBM Command Execution #! ALERT != Commands can be executed \n",
    "statexec(envs[2], limit='Statements can be executed') # DBMRFC and Native SQL SQL Statement Execution #! ALERT != Statements can be executed"
   ]
  },
  {
   "cell_type": "code",
   "execution_count": 5,
   "metadata": {},
   "outputs": [
    {
     "name": "stdout",
     "output_type": "stream",
     "text": [
      "Ignore\n",
      "Ignore\n",
      "Ignore\n",
      "Ignore\n",
      "Ignore\n",
      "Ignore\n"
     ]
    }
   ],
   "source": [
    "for i in s_handlist.keys():\n",
    "    if(s_handlist[i]['SD_Status'] == 0):\n",
    "        print('Ignore')\n",
    "    elif(s_handlist[i]['SD_Status'] == 1):\n",
    "        report_soldier(s_handlist[i]['SD_Name'], s_handlist[i]['SD_Number'], s_handlist[i]['War_Hour'])"
   ]
  },
  {
   "cell_type": "code",
   "execution_count": null,
   "metadata": {},
   "outputs": [],
   "source": []
  },
  {
   "cell_type": "code",
   "execution_count": 6,
   "metadata": {},
   "outputs": [
    {
     "data": {
      "text/plain": [
       "{'SD_Number': 12,\n",
       " 'SD_Name': 'Database Analyzer Status Database Analyzer',\n",
       " 'SD_Value': 'Deactivated',\n",
       " 'SD_Status': 1,\n",
       " 'Priority': 1,\n",
       " 'War_Hour': datetime.datetime(2022, 12, 28, 13, 15, 46, 656922)}"
      ]
     },
     "execution_count": 6,
     "metadata": {},
     "output_type": "execute_result"
    }
   ],
   "source": [
    "s_handlist[12]"
   ]
  },
  {
   "cell_type": "code",
   "execution_count": null,
   "metadata": {},
   "outputs": [],
   "source": []
  }
 ],
 "metadata": {
  "kernelspec": {
   "display_name": "Python 3",
   "language": "python",
   "name": "python3"
  },
  "language_info": {
   "codemirror_mode": {
    "name": "ipython",
    "version": 3
   },
   "file_extension": ".py",
   "mimetype": "text/x-python",
   "name": "python",
   "nbconvert_exporter": "python",
   "pygments_lexer": "ipython3",
   "version": "3.10.6"
  },
  "orig_nbformat": 4,
  "vscode": {
   "interpreter": {
    "hash": "26de051ba29f2982a8de78e945f0abaf191376122a1563185a90213a26c5da77"
   }
  }
 },
 "nbformat": 4,
 "nbformat_minor": 2
}
